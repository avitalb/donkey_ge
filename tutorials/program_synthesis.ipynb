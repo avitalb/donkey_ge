{
 "cells": [
  {
   "cell_type": "markdown",
   "metadata": {},
   "source": [
    "# Set working directory and import modules"
   ]
  },
  {
   "cell_type": "code",
   "execution_count": 1,
   "metadata": {
    "pycharm": {
     "name": "#%%\n",
     "is_executing": false
    }
   },
   "outputs": [],
   "source": [
    "import json\n",
    "import os\n",
    "# Change working directory to the root of the repository (assumes notebook working directory is `tutorials`)\n",
    "os.chdir('..')\n",
    "import main\n",
    "from fitness.program_synthesis.program_synthesis import FindCharacters, FindCharactersSymbolicExecution"
   ]
  },
  {
   "cell_type": "markdown",
   "source": [
    "# Run program synthesis"
   ],
   "metadata": {
    "collapsed": false
   }
  },
  {
   "cell_type": "code",
   "execution_count": 2,
   "outputs": [
    {
     "name": "stdout",
     "text": [
      "Run program:\n",
      "\n",
      "def fcn(inputs):\n",
      "    \n",
      "    res0 = 0\n",
      "    for i in inputs:\n",
      "        if i == \"a\" or i == \"b\":\n",
      "            res0 = res0 + 1\n",
      "    return res0\n",
      "    \n",
      "\n",
      "outcomes = evaluate_exemplars(inputs, outputs, fcn)\n",
      "            \n",
      "[True, True, True, True, True, True, True, True, True, True, True, True, True, True, True, True, True, True, True, True, True, True, True, True, True, True, True, True, True, True, True, True, True, True, True, True, True, True, True, True, True, True, True, True, True, True, True, True, True, True, True, True, True, True, True, True, True, True, True, True, True, True, True, True, True, True, True, True, True, True, True, True, True, True, True, True, True, True, True, True, True, True, True, True, True, True, True, True, True, True, True, True, True, True, True, True, True, True, True, True]\n"
     ],
     "output_type": "stream"
    },
    {
     "name": "stderr",
     "text": [
      "<>:16: SyntaxWarning: assertion is always true, perhaps remove parentheses?\n",
      "<>:16: SyntaxWarning: assertion is always true, perhaps remove parentheses?\n",
      "<>:16: SyntaxWarning: assertion is always true, perhaps remove parentheses?\n",
      "<ipython-input-2-5a3746fecf0f>:16: SyntaxWarning: assertion is always true, perhaps remove parentheses?\n",
      "  assert (sum(result) == 100, result)\n"
     ],
     "output_type": "stream"
    }
   ],
   "source": [
    "data_file = \"tests/program_synthesis/FindCharacters.json\"\n",
    "with open(data_file, \"r\") as f:\n",
    "    data = json.load(f)\n",
    "\n",
    "program_synthesis = FindCharacters(data[\"train\"], \"\")\n",
    "code = \"\"\"\n",
    "    res0 = 0\n",
    "    for i in inputs:\n",
    "        if i == \"a\" or i == \"b\":\n",
    "            res0 = res0 + 1\n",
    "    return res0\n",
    "    \"\"\"\n",
    "result = program_synthesis.run(code)\n",
    "print(result)\n",
    "assert (sum(result) == 100, result)"
   ],
   "metadata": {
    "collapsed": false,
    "pycharm": {
     "name": "#%%\n",
     "is_executing": false
    }
   }
  },
  {
   "cell_type": "markdown",
   "source": [
    "# Run the heuristic search"
   ],
   "metadata": {
    "collapsed": false
   }
  },
  {
   "cell_type": "code",
   "execution_count": 3,
   "outputs": [
    {
     "name": "stdout",
     "text": [
      "Setting random seed: 1 0.13436\n",
      "donkey_ge settings: {'population_size': 4, 'max_length': 100, 'elite_size': 1, 'generations': 3, 'tournament_size': 2, 'seed': 1, 'crossover_probability': 0.8, 'mutation_probability': 0.1, 'codon_size': 127, 'integer_input_element_max': 1000, 'bnf_grammar': 'tests/grammars/program_synthesis.bnf', 'fitness_function': {'name': 'fitness.fitness.ProgramSynthesis', 'data': 'tests/program_synthesis/FindCharacters.json', 'synthesis_problem': 'fitness.program_synthesis.program_synthesis.FindCharacters', 'code_template_path': 'tests/program_synthesis/code_template.txt'}, 'output_dir': 'tmp', 'coev': False}\n",
      "Run program:\n",
      "def fcn(inputs):\n",
      "    res0 = 0\n",
      "    for i in inputs:\n",
      "        if i == 'g' or i == 'c':\n",
      "            res0 = res0 + 1\n",
      "    return res0\n",
      "\n",
      "outcomes = evaluate_exemplars(inputs, outputs, fcn)\n",
      "\n",
      "Run program:\n",
      "def fcn(inputs):\n",
      "    res0 = 0\n",
      "    for i in inputs:\n",
      "        if i == 'c' or i == 'a':\n",
      "            res0 = res0 + 1\n",
      "    return res0\n",
      "\n",
      "outcomes = evaluate_exemplars(inputs, outputs, fcn)\n",
      "\n",
      "Run program:\n",
      "def fcn(inputs):\n",
      "    res0 = 0\n",
      "    for i in inputs:\n",
      "        if i == 'a' or i == 'b':\n",
      "            res0 = res0 + 1\n",
      "    return res0\n",
      "\n",
      "outcomes = evaluate_exemplars(inputs, outputs, fcn)\n",
      "\n",
      "Run program:\n",
      "def fcn(inputs):\n",
      "    res0 = 0\n",
      "    for i in inputs:\n",
      "        if i == 'b' or i == 'b':\n",
      "            res0 = res0 + 1\n",
      "    return res0\n",
      "\n",
      "outcomes = evaluate_exemplars(inputs, outputs, fcn)\n",
      "\n",
      "Gen:0 t:0.004 fit_ave:64.50+-21.685 size_ave:2.00+-0.000 length_ave:100.00+-0.000 Ind: if i == 'a' or i == 'b':; 100\n",
      "Run program:\n",
      "def fcn(inputs):\n",
      "    res0 = 0\n",
      "    for i in inputs:\n",
      "        if i == 'd' or i == 'b':\n",
      "            res0 = res0 + 1\n",
      "    return res0\n",
      "\n",
      "outcomes = evaluate_exemplars(inputs, outputs, fcn)\n",
      "\n",
      "Run program:\n",
      "def fcn(inputs):\n",
      "    res0 = 0\n",
      "    for i in inputs:\n",
      "        if i == 'a' or i == 'd':\n",
      "            res0 = res0 + 1\n",
      "    return res0\n",
      "\n",
      "outcomes = evaluate_exemplars(inputs, outputs, fcn)\n",
      "\n",
      "Run program:\n",
      "def fcn(inputs):\n",
      "    res0 = 0\n",
      "    for i in inputs:\n",
      "        if i == 'b' or i == 'a':\n",
      "            res0 = res0 + 1\n",
      "    return res0\n",
      "\n",
      "outcomes = evaluate_exemplars(inputs, outputs, fcn)\n",
      "\n",
      "Gen:1 t:0.004 fit_ave:77.25+-22.819 size_ave:2.00+-0.000 length_ave:100.00+-0.707 Ind: if i == 'b' or i == 'a':; 100\n",
      "Run program:\n",
      "def fcn(inputs):\n",
      "    res0 = 0\n",
      "    for i in inputs:\n",
      "        if i == 'd' or i == 'a':\n",
      "            res0 = res0 + 1\n",
      "    return res0\n",
      "\n",
      "outcomes = evaluate_exemplars(inputs, outputs, fcn)\n",
      "\n",
      "Gen:2 t:0.002 fit_ave:100.00+-0.000 size_ave:2.00+-0.000 length_ave:99.25+-0.433 Ind: if i == 'b' or i == 'a':; 100\n",
      "Cache entries:8 Total Fitness Evaluations:48 Fitness Values:6\n",
      "Time: 0.025 Best solution:Ind: if i == 'b' or i == 'a':; 100\n"
     ],
     "output_type": "stream"
    }
   ],
   "source": [
    "out_path = 'tmp'\n",
    "# Set to use the configuration file and output directory\n",
    "args = [\"-o\", out_path, \"-f\", \"tests/configurations/program_synthesis.yml\"]\n",
    "_ = main.main(args)"
   ],
   "metadata": {
    "collapsed": false,
    "pycharm": {
     "name": "#%%\n",
     "is_executing": false
    }
   }
  },
  {
   "cell_type": "code",
   "execution_count": 4,
   "outputs": [],
   "source": [
    "from util.plot_donkey_ge import plot_fitness\n",
    "# Plot fitness from a search\n",
    "plot_fitness(in_path=out_path, out_path=out_path)"
   ],
   "metadata": {
    "collapsed": false,
    "pycharm": {
     "name": "#%%\n",
     "is_executing": false
    }
   }
  },
  {
   "cell_type": "markdown",
   "source": [
    "# Run program synthesis with symbolic execution"
   ],
   "metadata": {
    "collapsed": false
   }
  },
  {
   "cell_type": "code",
   "execution_count": 5,
   "outputs": [
    {
     "name": "stdout",
     "text": [
      "Run program:\n",
      "\n",
      "class Cls:\n",
      "\n",
      "    def __init__(self):\n",
      "        self.increment = 0\n",
      "\n",
      "    def fcn(self, inputs):\n",
      "        \n",
      "        self.increment = 1\n",
      "        res0 = 0\n",
      "        for i in inputs:\n",
      "            if i == \"a\" or i == \"b\":\n",
      "                res0 = res0 + self.increment\n",
      "        return res0\n",
      "    \n",
      "\n",
      "    def run(self, inputs, outputs):\n",
      "        self.outcomes = evaluate_exemplars(inputs, outputs, self)\n",
      "        return self.outcomes\n",
      "\n",
      "instance = Cls()\n",
      "outcomes = instance.run(inputs, outputs)\n",
      "\n",
      "From exec:\n",
      "Solver model:[]\n",
      "\n",
      "[True, True, True, True, True, True, True, True, True, True, True, True, True, True, True, True, True, True, True, True, True, True, True, True, True, True, True, True, True, True, True, True, True, True, True, True, True, True, True, True, True, True, True, True, True, True, True, True, True, True, True, True, True, True, True, True, True, True, True, True, True, True, True, True, True, True, True, True, True, True, True, True, True, True, True, True, True, True, True, True, True, True, True, True, True, True, True, True, True, True, True, True, True, True, True, True, True, True, True, True]\n"
     ],
     "output_type": "stream"
    }
   ],
   "source": [
    "program_synthesis = FindCharactersSymbolicExecution(data[\"train\"], \"\")\n",
    "code = \"\"\"\n",
    "        self.increment = 1\n",
    "        res0 = 0\n",
    "        for i in inputs:\n",
    "            if i == \"a\" or i == \"b\":\n",
    "                res0 = res0 + self.increment\n",
    "        return res0\n",
    "    \"\"\"\n",
    "result = program_synthesis.run(code)\n",
    "print(result)\n",
    "assert sum(result) == 100"
   ],
   "metadata": {
    "collapsed": false,
    "pycharm": {
     "name": "#%%\n",
     "is_executing": false
    }
   }
  },
  {
   "cell_type": "markdown",
   "source": [
    "# Run the heuristic search"
   ],
   "metadata": {
    "collapsed": false
   }
  },
  {
   "cell_type": "code",
   "execution_count": 6,
   "outputs": [
    {
     "name": "stdout",
     "text": [
      "Setting random seed: 1 0.13436\n",
      "donkey_ge settings: {'population_size': 4, 'max_length': 100, 'elite_size': 1, 'generations': 3, 'tournament_size': 2, 'seed': 1, 'crossover_probability': 0.8, 'mutation_probability': 0.1, 'codon_size': 127, 'integer_input_element_max': 1000, 'bnf_grammar': 'tests/grammars/program_synthesis_symbolic_execution.bnf', 'fitness_function': {'name': 'fitness.fitness.ProgramSynthesis', 'data': 'tests/program_synthesis/FindCharacters.json', 'synthesis_problem': 'fitness.program_synthesis.program_synthesis.FindCharactersSymbolicExecution', 'code_template_path': 'tests/program_synthesis/code_template_symbolic_execution.txt'}, 'output_dir': 'tmp', 'coev': False}\n",
      "Run program:\n",
      "class Cls:\n",
      "\n",
      "    def __init__(self, increment):\n",
      "        self.increment = increment\n",
      "\n",
      "    def fcn(self, inputs):\n",
      "        res0 = 0\n",
      "        for i in inputs:\n",
      "            if i == \"a\" or i == \"b\":\n",
      "                res0 = res0 + self.increment\n",
      "        return res0\n",
      "\n",
      "\n",
      "    def run(self, inputs, outputs):\n",
      "        self.outcomes = evaluate_exemplars(inputs, outputs, self)\n",
      "        return self.outcomes\n",
      "\n",
      "instance = Cls(0)\n",
      "outcomes = instance.run(inputs, outputs)\n",
      "\n",
      "Run program:\n",
      "class Cls:\n",
      "\n",
      "    def __init__(self, increment):\n",
      "        self.increment = increment\n",
      "\n",
      "    def fcn(self, inputs):\n",
      "        res0 = 0\n",
      "        for i in inputs:\n",
      "            if i == \"a\" or i == \"b\":\n",
      "                res0 = res0 + self.increment\n",
      "        return res0\n",
      "\n",
      "\n",
      "    def run(self, inputs, outputs):\n",
      "        self.outcomes = evaluate_exemplars(inputs, outputs, self)\n",
      "        return self.outcomes\n",
      "\n",
      "instance = Cls(-1)\n",
      "outcomes = instance.run(inputs, outputs)\n",
      "\n",
      "Gen:0 t:0.060 fit_ave:0.00+-0.000 size_ave:1.00+-0.000 length_ave:100.00+-0.000 Ind: 0; 0\n",
      "Gen:1 t:0.000 fit_ave:0.00+-0.000 size_ave:1.00+-0.000 length_ave:100.00+-0.000 Ind: -1; 0\n",
      "Gen:2 t:0.000 fit_ave:0.00+-0.000 size_ave:1.00+-0.000 length_ave:100.00+-0.000 Ind: 0; 0\n",
      "Cache entries:2 Total Fitness Evaluations:48 Fitness Values:1\n",
      "Time: 0.068 Best solution:Ind: 0; 0\n"
     ],
     "output_type": "stream"
    }
   ],
   "source": [
    "# Set to use the configuration file and output directory\n",
    "args = [\"-o\", out_path, \"-f\", \"tests/configurations/program_synthesis_symbolic_execution.yml\"]\n",
    "_ = main.main(args)"
   ],
   "metadata": {
    "collapsed": false,
    "pycharm": {
     "name": "#%%\n",
     "is_executing": false
    }
   }
  },
  {
   "cell_type": "code",
   "execution_count": 7,
   "outputs": [
    {
     "data": {
      "text/plain": "<Figure size 432x288 with 1 Axes>",
      "image/png": "[encoded data removed]"
     },
     "metadata": {
      "needs_background": "light"
     },
     "output_type": "display_data"
    }
   ],
   "source": [
    "from util.plot_donkey_ge import plot_fitness\n",
    "# Plot fitness from a search\n",
    "plot_fitness(out_path=out_path, in_path=out_path)"
   ],
   "metadata": {
    "collapsed": false,
    "pycharm": {
     "name": "#%%\n",
     "is_executing": false
    }
   }
  }
 ],
 "metadata": {
  "kernelspec": {
   "display_name": "Python 3",
   "language": "python",
   "name": "python3"
  },
  "language_info": {
   "codemirror_mode": {
    "name": "ipython",
    "version": 3
   },
   "file_extension": ".py",
   "mimetype": "text/x-python",
   "name": "python",
   "nbconvert_exporter": "python",
   "pygments_lexer": "ipython3",
   "version": "3.7.0"
  },
  "pycharm": {
   "stem_cell": {
    "cell_type": "raw",
    "source": [],
    "metadata": {
     "collapsed": false
    }
   }
  }
 },
 "nbformat": 4,
 "nbformat_minor": 2
}